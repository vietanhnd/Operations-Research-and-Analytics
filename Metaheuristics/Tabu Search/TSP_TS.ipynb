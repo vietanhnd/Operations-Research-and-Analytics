{
 "cells": [
  {
   "cell_type": "markdown",
   "id": "c27613eb",
   "metadata": {},
   "source": [
    "## Tabu Search TSP\n",
    "Tabu search is a meta heuristic search algorithm that utilize the idea of having short term memory to avoid sticking in a local minima. It has been used in many applications one of them is Traveling Salesman Problem. Speaking about TSP it worth to mention that the best reported algorithm to solve it is guided local search algorithm."
   ]
  },
  {
   "cell_type": "code",
   "execution_count": 1,
   "id": "25dd3273",
   "metadata": {},
   "outputs": [],
   "source": [
    "import copy \n",
    "import math \n",
    "import pandas as pd\n",
    "import numpy as np\n",
    "import matplotlib.pyplot as plt"
   ]
  },
  {
   "cell_type": "code",
   "execution_count": 2,
   "id": "feabc294",
   "metadata": {},
   "outputs": [],
   "source": [
    "def create_random_data(n):\n",
    "    data = np.random.rand(2,n)*1000\n",
    "    plt.scatter(data[0], data[1])\n",
    "    plt.title('The location of {} cities'.format(n))\n",
    "    plt.show()\n",
    "    return data"
   ]
  },
  {
   "cell_type": "code",
   "execution_count": 3,
   "id": "d644770f",
   "metadata": {},
   "outputs": [],
   "source": [
    "def create_data_array(data):\n",
    "    x_cord = data[0]\n",
    "    y_cord = data[1]\n",
    "    data_arr = [0]*n\n",
    "    for i in range(0,len(data_arr)):\n",
    "        sub_list = [0]*2\n",
    "        sub_list[0] = x_cord[i]\n",
    "        sub_list[1] = y_cord[i]\n",
    "        data_arr[i] = sub_list\n",
    "    data_arr = np.array(data_arr)\n",
    "    return data_arr"
   ]
  },
  {
   "cell_type": "code",
   "execution_count": 4,
   "id": "244ff640",
   "metadata": {},
   "outputs": [],
   "source": [
    "#Calculate the distance matrix \n",
    "def distance_cal(data):\n",
    "    dis_matrix = np.zeros((n,n))\n",
    "    for i in range(n):\n",
    "        for j in range(n):\n",
    "            dis = np.sqrt((data[i,0] - data[j,0])**2 + (data[i,1] - data[j,1])**2)\n",
    "            dis_matrix[i,j] = dis\n",
    "            dis_matrix[j,i] = dis\n",
    "    return dis_matrix"
   ]
  },
  {
   "cell_type": "code",
   "execution_count": 5,
   "id": "e2a4526e",
   "metadata": {},
   "outputs": [],
   "source": [
    "def generate_neighbours(distance_arr):\n",
    "    \"\"\"This function is to generate a dictionary with the neighbours of all nodes\"\"\"\n",
    "    dict_of_neighbours = {}\n",
    "    for i in range(len(distance_arr)):\n",
    "        for j in range(i+1, len(distance_arr)):\n",
    "            if i not in dict_of_neighbours:\n",
    "                dict_of_neighbours[i] = {}\n",
    "                dict_of_neighbours[i][j] = distance_arr[i][j]\n",
    "            else:\n",
    "                dict_of_neighbours[i][j] = distance_arr[i][j]\n",
    "            if j not in dict_of_neighbours:\n",
    "                dict_of_neighbours[j] = {}\n",
    "                dict_of_neighbours[j][i] = distance_arr[j][i]\n",
    "            else:\n",
    "                dict_of_neighbours[j][i] = distance_arr[j][i]\n",
    "    return dict_of_neighbours"
   ]
  },
  {
   "cell_type": "code",
   "execution_count": 6,
   "id": "6dfc6377",
   "metadata": {},
   "outputs": [],
   "source": [
    "def generate_init_solution(n, dict_of_neighbours):\n",
    "    nodes = list(range(0,n))\n",
    "    start_node = nodes[0]\n",
    "    end_node = start_node\n",
    "    first_solution = []\n",
    "    distance_of_first_solution = 0\n",
    "    visiting = start_node\n",
    "    pre_node = None\n",
    "    k = 0\n",
    "    while k < (len(nodes)-1):\n",
    "        _tmp = copy.deepcopy(dict_of_neighbours[visiting])\n",
    "        _tmp.pop(pre_node, None)\n",
    "        for i in first_solution:\n",
    "            _tmp.pop(i, None)\n",
    "        next_node = min(_tmp.items(), key = lambda x: x[1])[0]\n",
    "        distance_of_first_solution += dict_of_neighbours[visiting][next_node]\n",
    "        first_solution.append(visiting)\n",
    "        pre_node = visiting\n",
    "        visiting = next_node\n",
    "        k = k + 1\n",
    "    first_solution.append(visiting)\n",
    "    first_solution.append(end_node)\n",
    "    distance_of_first_solution += dict_of_neighbours[pre_node][end_node]\n",
    "    return first_solution, distance_of_first_solution"
   ]
  },
  {
   "cell_type": "code",
   "execution_count": 440,
   "id": "07e0689d",
   "metadata": {},
   "outputs": [],
   "source": [
    "def find_neighbourhoods(solution, dict_of_neighbours, n_opt = 1):\n",
    "    neighbourhood_of_solution = []\n",
    "    for n in solution[1:-n_opt]:\n",
    "        idx1 = []\n",
    "        n_index = solution.index(n)\n",
    "        for i in range(n_opt):\n",
    "            idx1.append(n_index + i)\n",
    "        for kn in solution[1:-n_opt]:\n",
    "            idx2 = []\n",
    "            kn_index = solution.index(kn)\n",
    "            for i in range(n_opt):\n",
    "                idx2.append(kn_index + i)\n",
    "            if bool(\n",
    "                set(solution[idx1[0] : (idx1[-1] + 1)]) &\n",
    "                set(solution[idx2[0] : (idx2[-1] + 1)])):\n",
    "                \n",
    "                continue\n",
    "            _tmp = copy.deepcopy(solution)\n",
    "            for i in range(n_opt):\n",
    "                _tmp[idx1[i]] = solution[idx2[i]]\n",
    "                _tmp[idx2[i]] = solution[idx1[i]]\n",
    "            distance = 0\n",
    "            for k in _tmp[:-1]:\n",
    "                next_node = _tmp[_tmp.index(k) + 1]\n",
    "                distance = distance + dict_of_neighbours[k][next_node]\n",
    "            _tmp.append(distance)\n",
    "            if _tmp not in neighbourhood_of_solution:\n",
    "                neighbourhood_of_solution.append(_tmp)\n",
    "    last_index = len(neighbourhood_of_solution[0]) - 1\n",
    "    neighbourhood_of_solution.sort(key = lambda x: x[last_index])\n",
    "    return neighbourhood_of_solution"
   ]
  },
  {
   "cell_type": "code",
   "execution_count": 487,
   "id": "e49fa601",
   "metadata": {},
   "outputs": [],
   "source": [
    "#Tabu Search Algorithm \n",
    "def tabu_search(first_solution, distance_of_first_solution, dict_of_neighbours, inters, size, n_opt = 1):\n",
    "    count = 1\n",
    "    solution = first_solution\n",
    "    tabu_list = list()\n",
    "    best_cost = distance_of_first_solution\n",
    "    best_solution_ever = solution\n",
    "    while count <= iters:\n",
    "        neighbourhood = find_neighbourhoods(solution, dict_of_neighbours, n_opt = n_opt)\n",
    "        index_of_best_solution = 0\n",
    "        best_solution = neighbourhood[index_of_best_solution]\n",
    "        best_cost_index = len(best_solution) - 1\n",
    "        found = False\n",
    "        while found is False:\n",
    "            i = 0\n",
    "            first_exchange_node, second_exchange_node = [], []\n",
    "            n_opt_counter = 0\n",
    "            while i < len(best_solution):\n",
    "                if best_solution[i] != solution[i]:\n",
    "                    first_exchange_node.append(best_solution[i])\n",
    "                    second_exchange_node.append(solution[i])\n",
    "                    n_opt_counter += 1\n",
    "                    if n_opt_counter == n_opt:\n",
    "                        break\n",
    "                i = i + 1\n",
    "            exchange = first_exchange_node + second_exchange_node\n",
    "            if first_exchange_node + second_exchange_node not in tabu_list and second_exchange_node + first_exchange_node not in tabu_list:\n",
    "                tabu_list.append(exchange)\n",
    "                found = True\n",
    "                solution = best_solution[:-1]\n",
    "                cost = neighbourhood[index_of_best_solution][best_cost_index]\n",
    "                if cost < best_cost:\n",
    "                    best_cost = cost\n",
    "                    best_solution_ever = solution\n",
    "            elif index_of_best_solution < len(neighbourhood):\n",
    "                best_solution = neighbourhood[index_of_best_solution]\n",
    "                index_of_best_solution = index_of_best_solution + 1\n",
    "            \n",
    "        while len(tabu_list) > size:\n",
    "            tabu_list.pop(0)\n",
    "        count = count + 1\n",
    "    return best_solution_ever, best_cost"
   ]
  },
  {
   "cell_type": "code",
   "execution_count": 480,
   "id": "96aae064",
   "metadata": {},
   "outputs": [],
   "source": [
    "def generate_optimal_route(best_solution_ever):\n",
    "    x0 = best_solution_ever\n",
    "    x_x0 = [0]*(len(x0)+1)\n",
    "    y_x0 = [0]*(len(x0)+1)\n",
    "    for i in range(len(x0)):\n",
    "        x_x0[i] = data_arr[x0[i],0]\n",
    "        y_x0[i] = data_arr[x0[i],1]\n",
    "        x_x0[-1] = data_arr[x0[0],0]\n",
    "        y_x0[-1] = data_arr[x0[0],1]\n",
    "    plt.plot(x_x0, y_x0, linestyle = 'solid', marker = 'o')\n",
    "    plt.title('Optimal route')\n",
    "    for i in range(len(x0)):\n",
    "        plt.text(x_x0[i] + 2, y_x0[i],str(x0[i]))\n",
    "    plt.show()\n",
    "    breakpoint()"
   ]
  },
  {
   "cell_type": "code",
   "execution_count": 492,
   "id": "13c59f4a",
   "metadata": {},
   "outputs": [
    {
     "data": {
      "image/png": "[encoded data removed]",
      "text/plain": [
       "<Figure size 432x288 with 1 Axes>"
      ]
     },
     "metadata": {
      "needs_background": "light"
     },
     "output_type": "display_data"
    },
    {
     "name": "stdout",
     "output_type": "stream",
     "text": [
      "Initial solution is:  [0, 15, 17, 12, 18, 4, 5, 11, 6, 1, 3, 14, 16, 9, 2, 10, 13, 8, 7, 19, 0]\n",
      "Length route of initial solution:  4624.071228609798\n",
      "Final solution is: [0, 15, 17, 12, 18, 4, 11, 1, 3, 14, 6, 5, 16, 10, 9, 2, 7, 19, 8, 13, 0]\n",
      "Objective value is: 4329.271207176411\n"
     ]
    },
    {
     "data": {
      "image/png": "[encoded data removed]",
      "text/plain": [
       "<Figure size 432x288 with 1 Axes>"
      ]
     },
     "metadata": {
      "needs_background": "light"
     },
     "output_type": "display_data"
    }
   ],
   "source": [
    "n = 20\n",
    "np.random.seed(5)\n",
    "data = create_random_data(n)\n",
    "data_arr = create_data_array(data)\n",
    "distance_arr = distance_cal(data_arr)\n",
    "dict_of_neighbours = generate_neighbours(distance_arr)\n",
    "first_solution, distance_of_first_solution = generate_init_solution(n, dict_of_neighbours)\n",
    "print('Initial solution is: ', first_solution)\n",
    "print('Length route of initial solution: ', distance_of_first_solution)\n",
    "neighbourhood_of_solution = find_neighbourhoods(first_solution, dict_of_neighbours, n_opt = 1)\n",
    "inters = 1000\n",
    "size = 10\n",
    "\n",
    "best_solution_ever, best_cost = tabu_search(first_solution, distance_of_first_solution, dict_of_neighbours, inters, size, n_opt = 1)\n",
    "    \n",
    "#Print the solution\n",
    "print('Final solution is:', best_solution_ever)\n",
    "print('Objective value is:', best_cost)\n",
    "    \n",
    "generate_optimal_route(best_solution_ever)"
   ]
  },
  {
   "cell_type": "code",
   "execution_count": null,
   "id": "c2021aa4",
   "metadata": {},
   "outputs": [],
   "source": []
  }
 ],
 "metadata": {
  "kernelspec": {
   "display_name": "Python 3 (ipykernel)",
   "language": "python",
   "name": "python3"
  },
  "language_info": {
   "codemirror_mode": {
    "name": "ipython",
    "version": 3
   },
   "file_extension": ".py",
   "mimetype": "text/x-python",
   "name": "python",
   "nbconvert_exporter": "python",
   "pygments_lexer": "ipython3",
   "version": "3.9.7"
  }
 },
 "nbformat": 4,
 "nbformat_minor": 5
}
