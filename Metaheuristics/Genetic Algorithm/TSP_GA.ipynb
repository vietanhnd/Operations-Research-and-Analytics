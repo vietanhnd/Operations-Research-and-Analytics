{
 "cells": [
  {
   "cell_type": "markdown",
   "id": "c372ceae",
   "metadata": {},
   "source": [
    "## TSP Genetic Algorithm\n",
    "In computer science and operations research, a genetic algorithm (GA) is a metaheuristic inspired by the process of natural selection that belongs to the larger class of evolutionary algorithms (EA). Genetic algorithms are commonly used to generate high-quality solutions to optimization and search problems by relying on biologically inspired operators such as mutation, crossover and selection.[1] Some examples of GA applications include optimizing decision trees for better performance, solving sudoku puzzles,[2] hyperparameter optimization, etc."
   ]
  },
  {
   "cell_type": "code",
   "execution_count": 2,
   "id": "d68f88a6",
   "metadata": {},
   "outputs": [],
   "source": [
    "import numpy as np, random, operator, pandas as pd, matplotlib.pyplot as plt"
   ]
  },
  {
   "cell_type": "code",
   "execution_count": 3,
   "id": "f04725f4",
   "metadata": {},
   "outputs": [],
   "source": [
    "#Create class to handle 'cities'\n",
    "class City:\n",
    "    def __init__(self, x, y):\n",
    "        self.x = x\n",
    "        self.y = y\n",
    "    \n",
    "    def distance(self, city):\n",
    "        xDis = abs(self.x - city.x)\n",
    "        yDis = abs(self.y - city.y)\n",
    "        distance = np.sqrt((xDis ** 2) + (yDis ** 2))\n",
    "        return distance\n",
    "    \n",
    "    def __repr__(self):\n",
    "        return \"(\" + str(self.x) + \",\" + str(self.y) + \")\""
   ]
  },
  {
   "cell_type": "code",
   "execution_count": 4,
   "id": "75c36f18",
   "metadata": {},
   "outputs": [],
   "source": [
    "class Fitness:\n",
    "    def __init__(self, route):\n",
    "        self.route = route\n",
    "        self.distance = 0\n",
    "        self.fitness= 0.0\n",
    "    \n",
    "    def routeDistance(self):\n",
    "        if self.distance ==0:\n",
    "            pathDistance = 0\n",
    "            for i in range(0, len(self.route)):\n",
    "                fromCity = self.route[i]\n",
    "                toCity = None\n",
    "                if i + 1 < len(self.route):\n",
    "                    toCity = self.route[i + 1]\n",
    "                else:\n",
    "                    toCity = self.route[0]\n",
    "                pathDistance += fromCity.distance(toCity)\n",
    "            self.distance = pathDistance\n",
    "        return self.distance\n",
    "    \n",
    "    def routeFitness(self):\n",
    "        if self.fitness == 0:\n",
    "            self.fitness = 1 / float(self.routeDistance())\n",
    "        return self.fitness"
   ]
  },
  {
   "cell_type": "code",
   "execution_count": 5,
   "id": "430231f3",
   "metadata": {},
   "outputs": [],
   "source": [
    "def createRoute(cityList):\n",
    "    route = random.sample(cityList, len(cityList))\n",
    "    return route"
   ]
  },
  {
   "cell_type": "code",
   "execution_count": 6,
   "id": "321f130d",
   "metadata": {},
   "outputs": [],
   "source": [
    "def initialPopulation(popSize, cityList):\n",
    "    population = []\n",
    "\n",
    "    for i in range(0, popSize):\n",
    "        population.append(createRoute(cityList))\n",
    "    return population"
   ]
  },
  {
   "cell_type": "code",
   "execution_count": 7,
   "id": "98397606",
   "metadata": {},
   "outputs": [],
   "source": [
    "def rankRoutes(population):\n",
    "    fitnessResults = {}\n",
    "    for i in range(0,len(population)):\n",
    "        fitnessResults[i] = Fitness(population[i]).routeFitness()\n",
    "    return sorted(fitnessResults.items(), key = operator.itemgetter(1), reverse = True)"
   ]
  },
  {
   "cell_type": "code",
   "execution_count": 8,
   "id": "65301529",
   "metadata": {},
   "outputs": [],
   "source": [
    "def selection(popRanked, eliteSize):\n",
    "    selectionResults = []\n",
    "    df = pd.DataFrame(np.array(popRanked), columns=[\"Index\",\"Fitness\"])\n",
    "    df['cum_sum'] = df.Fitness.cumsum()\n",
    "    df['cum_perc'] = 100*df.cum_sum/df.Fitness.sum()\n",
    "    \n",
    "    for i in range(0, eliteSize):\n",
    "        selectionResults.append(popRanked[i][0])\n",
    "    for i in range(0, len(popRanked) - eliteSize):\n",
    "        pick = 100*random.random()\n",
    "        for i in range(0, len(popRanked)):\n",
    "            if pick <= df.iat[i,3]:\n",
    "                selectionResults.append(popRanked[i][0])\n",
    "                break\n",
    "    return selectionResults"
   ]
  },
  {
   "cell_type": "code",
   "execution_count": 9,
   "id": "bd84f896",
   "metadata": {},
   "outputs": [],
   "source": [
    "def matingPool(population, selectionResults):\n",
    "    matingpool = []\n",
    "    for i in range(0, len(selectionResults)):\n",
    "        index = selectionResults[i]\n",
    "        matingpool.append(population[index])\n",
    "    return matingpool"
   ]
  },
  {
   "cell_type": "code",
   "execution_count": 10,
   "id": "e3a5618a",
   "metadata": {},
   "outputs": [],
   "source": [
    "def breed(parent1, parent2):\n",
    "    child = []\n",
    "    childP1 = []\n",
    "    childP2 = []\n",
    "    \n",
    "    geneA = int(random.random() * len(parent1))\n",
    "    geneB = int(random.random() * len(parent1))\n",
    "    \n",
    "    startGene = min(geneA, geneB)\n",
    "    endGene = max(geneA, geneB)\n",
    "\n",
    "    for i in range(startGene, endGene):\n",
    "        childP1.append(parent1[i])\n",
    "        \n",
    "    childP2 = [item for item in parent2 if item not in childP1]\n",
    "\n",
    "    child = childP1 + childP2\n",
    "    return child"
   ]
  },
  {
   "cell_type": "code",
   "execution_count": 11,
   "id": "1d9c8d16",
   "metadata": {},
   "outputs": [],
   "source": [
    "def breedPopulation(matingpool, eliteSize):\n",
    "    children = []\n",
    "    length = len(matingpool) - eliteSize\n",
    "    pool = random.sample(matingpool, len(matingpool))\n",
    "\n",
    "    for i in range(0,eliteSize):\n",
    "        children.append(matingpool[i])\n",
    "    \n",
    "    for i in range(0, length):\n",
    "        child = breed(pool[i], pool[len(matingpool)-i-1])\n",
    "        children.append(child)\n",
    "    return children"
   ]
  },
  {
   "cell_type": "code",
   "execution_count": 12,
   "id": "4dbc7ec7",
   "metadata": {},
   "outputs": [],
   "source": [
    "def mutate(individual, mutationRate):\n",
    "    for swapped in range(len(individual)):\n",
    "        if(random.random() < mutationRate):\n",
    "            swapWith = int(random.random() * len(individual))\n",
    "            \n",
    "            city1 = individual[swapped]\n",
    "            city2 = individual[swapWith]\n",
    "            \n",
    "            individual[swapped] = city2\n",
    "            individual[swapWith] = city1\n",
    "    return individual"
   ]
  },
  {
   "cell_type": "code",
   "execution_count": 13,
   "id": "06c3d580",
   "metadata": {},
   "outputs": [],
   "source": [
    "def mutatePopulation(population, mutationRate):\n",
    "    mutatedPop = []\n",
    "    \n",
    "    for ind in range(0, len(population)):\n",
    "        mutatedInd = mutate(population[ind], mutationRate)\n",
    "        mutatedPop.append(mutatedInd)\n",
    "    return mutatedPop"
   ]
  },
  {
   "cell_type": "code",
   "execution_count": 14,
   "id": "0540f1a5",
   "metadata": {},
   "outputs": [],
   "source": [
    "def nextGeneration(currentGen, eliteSize, mutationRate):\n",
    "    popRanked = rankRoutes(currentGen)\n",
    "    selectionResults = selection(popRanked, eliteSize)\n",
    "    matingpool = matingPool(currentGen, selectionResults)\n",
    "    children = breedPopulation(matingpool, eliteSize)\n",
    "    nextGeneration = mutatePopulation(children, mutationRate)\n",
    "    return nextGeneration"
   ]
  },
  {
   "cell_type": "code",
   "execution_count": 15,
   "id": "8f002581",
   "metadata": {},
   "outputs": [],
   "source": [
    "def geneticAlgorithm(population, popSize, eliteSize, mutationRate, generations):\n",
    "    pop = initialPopulation(popSize, population)\n",
    "    print(\"Initial distance: \" + str(1 / rankRoutes(pop)[0][1]))\n",
    "    \n",
    "    for i in range(0, generations):\n",
    "        pop = nextGeneration(pop, eliteSize, mutationRate)\n",
    "    \n",
    "    print(\"Final distance: \" + str(1 / rankRoutes(pop)[0][1]))\n",
    "    bestRouteIndex = rankRoutes(pop)[0][0]\n",
    "    bestRoute = pop[bestRouteIndex]\n",
    "    return bestRoute"
   ]
  },
  {
   "cell_type": "code",
   "execution_count": 16,
   "id": "01ccbb59",
   "metadata": {},
   "outputs": [],
   "source": [
    "cityList = []\n",
    "\n",
    "for i in range(0,25):\n",
    "    cityList.append(City(x=int(random.random() * 200), y=int(random.random() * 200)))"
   ]
  },
  {
   "cell_type": "code",
   "execution_count": 17,
   "id": "54f46aca",
   "metadata": {},
   "outputs": [
    {
     "name": "stdout",
     "output_type": "stream",
     "text": [
      "Initial distance: 1967.8423459297208\n",
      "Final distance: 803.8820685940943\n"
     ]
    },
    {
     "data": {
      "text/plain": [
       "[(4,56),\n",
       " (4,20),\n",
       " (47,53),\n",
       " (64,56),\n",
       " (85,44),\n",
       " (100,45),\n",
       " (104,28),\n",
       " (94,1),\n",
       " (123,24),\n",
       " (198,44),\n",
       " (186,58),\n",
       " (181,65),\n",
       " (193,81),\n",
       " (185,135),\n",
       " (181,156),\n",
       " (195,164),\n",
       " (186,179),\n",
       " (140,160),\n",
       " (111,153),\n",
       " (58,139),\n",
       " (70,120),\n",
       " (117,117),\n",
       " (119,108),\n",
       " (116,107),\n",
       " (87,90)]"
      ]
     },
     "execution_count": 17,
     "metadata": {},
     "output_type": "execute_result"
    }
   ],
   "source": [
    "geneticAlgorithm(population=cityList, popSize=100, eliteSize=20, mutationRate=0.01, generations=1000)"
   ]
  },
  {
   "cell_type": "code",
   "execution_count": 18,
   "id": "ac616c18",
   "metadata": {},
   "outputs": [],
   "source": [
    "def geneticAlgorithmPlot(population, popSize, eliteSize, mutationRate, generations):\n",
    "    pop = initialPopulation(popSize, population)\n",
    "    progress = []\n",
    "    progress.append(1 / rankRoutes(pop)[0][1])\n",
    "    \n",
    "    for i in range(0, generations):\n",
    "        pop = nextGeneration(pop, eliteSize, mutationRate)\n",
    "        progress.append(1 / rankRoutes(pop)[0][1])\n",
    "    \n",
    "    plt.plot(progress)\n",
    "    plt.ylabel('Distance')\n",
    "    plt.xlabel('Generation')\n",
    "    plt.show()"
   ]
  },
  {
   "cell_type": "code",
   "execution_count": 19,
   "id": "bdabd08b",
   "metadata": {},
   "outputs": [
    {
     "data": {
      "image/png": "[encoded data removed]",
      "text/plain": [
       "<Figure size 432x288 with 1 Axes>"
      ]
     },
     "metadata": {
      "needs_background": "light"
     },
     "output_type": "display_data"
    }
   ],
   "source": [
    "geneticAlgorithmPlot(population=cityList, popSize=100, eliteSize=20, mutationRate=0.01, generations=1000)"
   ]
  },
  {
   "cell_type": "code",
   "execution_count": null,
   "id": "7e394de6",
   "metadata": {},
   "outputs": [],
   "source": []
  }
 ],
 "metadata": {
  "kernelspec": {
   "display_name": "Python 3 (ipykernel)",
   "language": "python",
   "name": "python3"
  },
  "language_info": {
   "codemirror_mode": {
    "name": "ipython",
    "version": 3
   },
   "file_extension": ".py",
   "mimetype": "text/x-python",
   "name": "python",
   "nbconvert_exporter": "python",
   "pygments_lexer": "ipython3",
   "version": "3.9.7"
  }
 },
 "nbformat": 4,
 "nbformat_minor": 5
}
