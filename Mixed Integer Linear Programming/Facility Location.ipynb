{
 "cells": [
  {
   "cell_type": "code",
   "execution_count": 1,
   "id": "810b284e",
   "metadata": {},
   "outputs": [],
   "source": [
    "from gurobipy import *\n",
    "import pandas as pd"
   ]
  },
  {
   "cell_type": "markdown",
   "id": "6d501f69",
   "metadata": {},
   "source": [
    "## Facility Location \n"
   ]
  },
  {
   "cell_type": "code",
   "execution_count": 2,
   "id": "01b16c9d",
   "metadata": {},
   "outputs": [],
   "source": [
    "basic_infor = pd.read_excel('IP_Dataset.xlsx','Basic information')\n",
    "cities = range(len(basic_infor['City']))\n",
    "markets = range(len(basic_infor['Market']))\n",
    "\n",
    "city_infor = pd.read_excel('IP_Dataset.xlsx', 'City\\'s information')\n",
    "\n",
    "op_cost = city_infor['Operating cost']\n",
    "capacity = city_infor['Capacity']\n",
    "\n",
    "market_infor = pd.read_excel('IP_Dataset.xlsx', 'Market\\'s information')\n",
    "\n",
    "demand = market_infor['Demand']\n",
    "\n",
    "ship_infor = pd.read_excel('IP_Dataset.xlsx', 'Shipping cost', index_col = 0)\n",
    "shipping_cost = []\n",
    "\n",
    "for i in ship_infor.index:\n",
    "    shipping_cost.append(list(ship_infor.loc[i]))"
   ]
  },
  {
   "cell_type": "code",
   "execution_count": 5,
   "id": "67d080a1",
   "metadata": {},
   "outputs": [
    {
     "name": "stdout",
     "output_type": "stream",
     "text": [
      "Gurobi Optimizer version 9.5.1 build v9.5.1rc2 (win64)\n",
      "Thread count: 6 physical cores, 12 logical processors, using up to 12 threads\n",
      "Optimize a model with 10 rows, 30 columns and 55 nonzeros\n",
      "Model fingerprint: 0x263201cb\n",
      "Variable types: 25 continuous, 5 integer (5 binary)\n",
      "Coefficient statistics:\n",
      "  Matrix range     [1e+00, 3e+04]\n",
      "  Objective range  [2e+00, 4e+04]\n",
      "  Bounds range     [1e+00, 1e+00]\n",
      "  RHS range        [8e+03, 2e+04]\n",
      "Presolve time: 0.01s\n",
      "Presolved: 10 rows, 30 columns, 55 nonzeros\n",
      "Variable types: 25 continuous, 5 integer (5 binary)\n",
      "Found heuristic solution: objective 313600.00000\n",
      "\n",
      "Root relaxation: objective 2.528000e+05, 11 iterations, 0.00 seconds (0.00 work units)\n",
      "\n",
      "    Nodes    |    Current Node    |     Objective Bounds      |     Work\n",
      " Expl Unexpl |  Obj  Depth IntInf | Incumbent    BestBd   Gap | It/Node Time\n",
      "\n",
      "     0     0 252800.000    0    5 313600.000 252800.000  19.4%     -    0s\n",
      "H    0     0                    280400.00000 252800.000  9.84%     -    0s\n",
      "H    0     0                    268950.00000 252800.000  6.00%     -    0s\n",
      "\n",
      "Cutting planes:\n",
      "  Gomory: 4\n",
      "  Implied bound: 4\n",
      "\n",
      "Explored 1 nodes (11 simplex iterations) in 0.04 seconds (0.00 work units)\n",
      "Thread count was 12 (of 12 available processors)\n",
      "\n",
      "Solution count 3: 268950 280400 313600 \n",
      "\n",
      "Optimal solution found (tolerance 1.00e-04)\n",
      "Best objective 2.689500000000e+05, best bound 2.689500000000e+05, gap 0.0000%\n"
     ]
    }
   ],
   "source": [
    "eg2 = Model('eg2')\n",
    "\n",
    "# Define variable \n",
    "\n",
    "x = []\n",
    "for j in cities:\n",
    "    x.append(eg2.addVar(lb = 0, vtype = GRB.BINARY, name = 'x' + str(j + 1)))\n",
    "y = []\n",
    "for i in markets:\n",
    "    y.append([])\n",
    "    for j in cities:\n",
    "        y[i].append(eg2.addVar(lb = 0, vtype = GRB.CONTINUOUS, name = 'y' + str(i+1) + str(j+1)))\n",
    "\n",
    "# Setting the objective function \n",
    "eg2.setObjective(\n",
    "    quicksum(x[j] * op_cost[j] for j in cities) + quicksum(quicksum(y[i][j] * shipping_cost[i][j] for j in cities) for i in markets), GRB.MINIMIZE)\n",
    "\n",
    "# Add constraints\n",
    "\n",
    "eg2.addConstrs((quicksum(y[i][j] for i in markets) <= capacity[j] * x[j] for j in cities), 'capacity constraints')\n",
    "eg2.addConstrs((quicksum(y[i][j] for j in cities) >= demand[i] for i in markets), 'demand constraints')\n",
    "\n",
    "eg2.optimize()"
   ]
  },
  {
   "cell_type": "code",
   "execution_count": 31,
   "id": "e4cb7f0d",
   "metadata": {},
   "outputs": [
    {
     "name": "stdout",
     "output_type": "stream",
     "text": [
      "Result:\n",
      "x1 = 0.0\n",
      "x2 = 1.0\n",
      "x3 = 0.0\n",
      "x4 = 1.0\n",
      "x5 = 1.0\n",
      "\tMarket1\tMarket2\tMarket3\tMarket4\tMarket5\n",
      "\n",
      "City1 0.0 \t0.0 \t0.0 \t0.0 \t0.0 \t\n",
      "City2 8000.0 \t12000.0 0.0 \t0.0 \t0.0 \t\n",
      "City3 0.0 \t0.0 \t0.0 \t0.0 \t0.0 \t\n",
      "City4 0.0 \t0.0 \t8000.0 \t0.0 \t17000.0 \n",
      "City5 0.0 \t0.0 \t1000.0 \t14000.0 0.0 \t\n",
      "z* = 268950.0\n"
     ]
    }
   ],
   "source": [
    "print('Result:')\n",
    "\n",
    "for j in cities:\n",
    "    print(x[j].varName, '=', x[j].x)\n",
    "\n",
    "print('\\tMarket1\\tMarket2\\tMarket3\\tMarket4\\tMarket5')\n",
    "\n",
    "for j in cities:\n",
    "    print('\\nCity' + str(j+1), end = \" \")\n",
    "    for i in markets:\n",
    "        if len(str(y[i][j].x)) < 7:\n",
    "            print(y[i][j].x, \"\\t\", end = \"\")\n",
    "        else:\n",
    "            print(y[i][j].x, \"\", end = \"\")\n",
    "print('\\nz* =', eg2.objVal)"
   ]
  }
 ],
 "metadata": {
  "kernelspec": {
   "display_name": "Python 3 (ipykernel)",
   "language": "python",
   "name": "python3"
  },
  "language_info": {
   "codemirror_mode": {
    "name": "ipython",
    "version": 3
   },
   "file_extension": ".py",
   "mimetype": "text/x-python",
   "name": "python",
   "nbconvert_exporter": "python",
   "pygments_lexer": "ipython3",
   "version": "3.9.7"
  }
 },
 "nbformat": 4,
 "nbformat_minor": 5
}
